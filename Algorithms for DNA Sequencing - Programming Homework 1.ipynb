{
 "cells": [
  {
   "cell_type": "markdown",
   "id": "eb890d17-5aa8-4904-ac8f-9f849d5ce090",
   "metadata": {},
   "source": [
    "**Algorithms for DNA Sequencing: Programming Homework 1**"
   ]
  },
  {
   "cell_type": "code",
   "execution_count": 309,
   "id": "3e5a6f38-a955-4c6f-a417-f3fd3856017c",
   "metadata": {},
   "outputs": [
    {
     "name": "stdout",
     "output_type": "stream",
     "text": [
      "First 100 bases: GGGCGGCGACCTCGCGGGTTTTCGCTATTTATGAAAATTTTCCGGTTTAAGGCGTTTCCGTTCTTCTTCGTCATAACTTAATGTTTTTATTTAAAATACC\n"
     ]
    }
   ],
   "source": [
    "def readGenome(filename):\n",
    "\tgenome = ''\n",
    "\twith open(filename, 'r') as f:\n",
    "\t\tfor line in f:\n",
    "\t\t\tif not line[0] == '>': \n",
    "\t\t\t\tgenome += line.rstrip()\n",
    "\treturn genome\n",
    "genome = readGenome(r\"C:\\Users\\...lambda_virus.fa\")\n",
    "genome[:100] \t\t#first 100 bases\n",
    "print(\"First 100 bases:\", genome[:100])"
   ]
  },
  {
   "cell_type": "code",
   "execution_count": 311,
   "id": "2600c6bf-a871-474d-876c-19b4cfa5f76f",
   "metadata": {},
   "outputs": [
    {
     "name": "stdout",
     "output_type": "stream",
     "text": [
      "First 100 bases: CGTAACCTGTCGGATCACCGGAAAGGACCCGTAAAGTGATAATGATTATCATCTACATATCACAACGTGCGTGGAGGCCATCAAACCACGTCAAATAATC\n"
     ]
    }
   ],
   "source": [
    "def reverseComplement(s):\n",
    "\tcomplement = {'A': 'T', 'C': 'G', 'G':'C', 'T': 'A', 'N': 'N'}\n",
    "\tt  = ''\n",
    "\tfor base in s:\n",
    "\t\tt = complement[base] + t\n",
    "\treturn t\n",
    "genome_complement= reverseComplement(genome)\n",
    "print(\"First 100 bases:\", genome_complement[:100]) "
   ]
  },
  {
   "cell_type": "markdown",
   "id": "64e23fa2-cc0e-491e-9dd5-40a759d766cc",
   "metadata": {},
   "source": [
    "**Implement a version of the naive exact matching algorithm that is strand-aware**"
   ]
  },
  {
   "cell_type": "code",
   "execution_count": 313,
   "id": "3f5f8357-4760-4e03-b2df-6d3a0712b270",
   "metadata": {},
   "outputs": [],
   "source": [
    "def naive(p, t): #p=pattern (ej sequence), t=text (ej genome to compare) \n",
    "    occurrences = []\n",
    "    for i in range(len(t) - len(p) + 1):  # loop over alignments\n",
    "        match = True\n",
    "        for j in range(len(p)):  # loop over characters\n",
    "            if t[i+j] != p[j]:  # compare characters\n",
    "                match = False\n",
    "                break\n",
    "        if match:\n",
    "            occurrences.append(i)  # all chars matched; record\n",
    "    return occurrences"
   ]
  },
  {
   "cell_type": "markdown",
   "id": "36b3b536-2ac3-4e49-aa28-7eb3130cb4c3",
   "metadata": {},
   "source": [
    "1. How many times does AGGTAGGT or its reverse complement (ACCTACCT) occur in the lambda virus genome? E.g. if AGGTAGGT occurs 10 times and ACCTACCT occurs 12 times, you should report 22."
   ]
  },
  {
   "cell_type": "code",
   "execution_count": 317,
   "id": "10691809-6192-4584-b95f-d9f117875eb2",
   "metadata": {},
   "outputs": [
    {
     "name": "stdout",
     "output_type": "stream",
     "text": [
      "Matches: 150\n"
     ]
    }
   ],
   "source": [
    "t = genome\n",
    "p = \"AGGT\"\n",
    "result_genome_AGGT = naive(p, t)\n",
    "print(\"Matches:\", len(result_genome_AGGT))  "
   ]
  },
  {
   "cell_type": "code",
   "execution_count": 318,
   "id": "469a7909-ffe7-4b5a-94cb-1df3509f2fdb",
   "metadata": {},
   "outputs": [
    {
     "name": "stdout",
     "output_type": "stream",
     "text": [
      "Matches: 156\n"
     ]
    }
   ],
   "source": [
    "t = genome\n",
    "p = \"ACCT\"\n",
    "result_genome_ACCT = naive(p, t)\n",
    "print(\"Matches:\", len(result_genome_ACCT))  "
   ]
  },
  {
   "cell_type": "code",
   "execution_count": 319,
   "id": "5210aa70-7064-4a46-8a81-a51f5c214452",
   "metadata": {},
   "outputs": [
    {
     "name": "stdout",
     "output_type": "stream",
     "text": [
      "Matches: 306\n"
     ]
    }
   ],
   "source": [
    "print(\"Matches:\", len(result_genome_AGGT+result_genome_ACCT))"
   ]
  },
  {
   "cell_type": "markdown",
   "id": "6ec4ff28-5b54-413f-b949-226801fc0111",
   "metadata": {},
   "source": [
    "2. How many times does TTAA or its reverse complement occur in the lambda virus genome?\n",
    "Hint: TTAA and its reverse complement are equal, so remember not to double count."
   ]
  },
  {
   "cell_type": "code",
   "execution_count": 321,
   "id": "f1199f1b-325a-4fd4-9fae-54a29f24f916",
   "metadata": {},
   "outputs": [
    {
     "name": "stdout",
     "output_type": "stream",
     "text": [
      "Matches: 195\n"
     ]
    }
   ],
   "source": [
    "t = genome\n",
    "p = \"TTAA\"\n",
    "result_genome = naive(p, t)\n",
    "print(\"Matches:\", len(result_genome))  "
   ]
  },
  {
   "cell_type": "markdown",
   "id": "b97fca5f-8ae5-43a6-9682-bfbb71d29c59",
   "metadata": {},
   "source": [
    "3. What is the offset of the leftmost occurrence of ACTAAGT or its reverse complement in the Lambda virus genome? E.g. if the leftmost occurrence of ACTAAGT¿ is at offset 40 (0-based) and the leftmost occurrence of its reverse complement ACTTAGT is at offset 29, then report 29."
   ]
  },
  {
   "cell_type": "code",
   "execution_count": 324,
   "id": "78fa877f-03c2-4830-90f1-ae0078b4ff1a",
   "metadata": {},
   "outputs": [
    {
     "name": "stdout",
     "output_type": "stream",
     "text": [
      "[27733, 45382]\n"
     ]
    }
   ],
   "source": [
    "t = genome\n",
    "p = \"ACTAAGT\"\n",
    "result_genome = naive(p, t)\n",
    "print(result_genome)  "
   ]
  },
  {
   "cell_type": "code",
   "execution_count": 325,
   "id": "bc442c40-b549-46e8-93f6-1fb6533f76a1",
   "metadata": {},
   "outputs": [
    {
     "name": "stdout",
     "output_type": "stream",
     "text": [
      "[26028]\n"
     ]
    }
   ],
   "source": [
    "t = genome\n",
    "p = \"ACTTAGT\"\n",
    "result_genome = naive(p, t)\n",
    "print(result_genome)  "
   ]
  },
  {
   "cell_type": "markdown",
   "id": "0f4c18b9-fc56-47a7-9912-0263775fa4c2",
   "metadata": {},
   "source": [
    "4. What is the offset of the leftmost occurrence of AGTCGA or its reverse complement in the Lambda virus genome?"
   ]
  },
  {
   "cell_type": "code",
   "execution_count": 329,
   "id": "0835a376-f40b-4973-b05a-d3f31de2e8d0",
   "metadata": {},
   "outputs": [
    {
     "name": "stdout",
     "output_type": "stream",
     "text": [
      "[18005, 23320, 33657, 44806]\n"
     ]
    }
   ],
   "source": [
    "t = genome\n",
    "p = \"AGTCGA\"\n",
    "result_genome = naive(p, t)\n",
    "print(result_genome)  "
   ]
  },
  {
   "cell_type": "code",
   "execution_count": 330,
   "id": "9b35596c-1a0a-43da-8611-11da3dc48f9d",
   "metadata": {},
   "outputs": [
    {
     "name": "stdout",
     "output_type": "stream",
     "text": [
      "[450, 1908, 2472, 41927, 45369]\n"
     ]
    }
   ],
   "source": [
    "reverse=reverseComplement('AGTCGA')\n",
    "t = genome\n",
    "p = reverse\n",
    "result_genome = naive(p, t)\n",
    "print(result_genome)  "
   ]
  },
  {
   "cell_type": "markdown",
   "id": "6137b6d5-dcf2-4c3a-a06c-6d364b49b04f",
   "metadata": {},
   "source": [
    "5. For Questions 5 and 6, make a new version of the naive function called naive_2mm that allows up to 2 mismatches per occurrence. Unlike for the previous questions, do not consider the reverse complement here. We're looking for approximate matches for P itself, not its reverse complement. For example, ACTTTA occurs twice in ACTTACTTGATAAAGT, once at offset 0 with 2 mismatches, and once at offset 4 with 1 mismatch. So naive_2mm (’ACTTTA’, ’ACTTACTTGATAAAGT’) should return the list [0, 4]."
   ]
  },
  {
   "cell_type": "code",
   "execution_count": 332,
   "id": "50a75ad5-e90e-46b4-83ac-130143794923",
   "metadata": {},
   "outputs": [],
   "source": [
    "def naive_mm(p,s,m): #p=pattern (ej sequence), s=text (ej genome to compare), mismatch \n",
    "    occurrences = []\n",
    "    for i in range(len(s) - len(p) + 1):\n",
    "        match = True\n",
    "        mistakes = 0\n",
    "        for j in range(len(p)):\n",
    "            if not p[j] == s[i+j]: # find mismatch\n",
    "                mistakes += 1\n",
    "                if mistakes > m: # exceed error limits\n",
    "                    match = False\n",
    "                    break\n",
    "        if match:\n",
    "            occurrences.append(i)\n",
    "    return occurrences"
   ]
  },
  {
   "cell_type": "code",
   "execution_count": 333,
   "id": "eb1d3734-5b12-4935-a364-eb68d3ca7b80",
   "metadata": {},
   "outputs": [
    {
     "name": "stdout",
     "output_type": "stream",
     "text": [
      "Matches: 191\n"
     ]
    }
   ],
   "source": [
    "s = genome\n",
    "p = \"TTCAAGCC\"\n",
    "m = 2\n",
    "result_genome = naive_mm(p,s,m)\n",
    "print(\"Matches:\", len(result_genome))"
   ]
  },
  {
   "cell_type": "markdown",
   "id": "29445bef-84ca-4896-b448-96cfb15af02d",
   "metadata": {},
   "source": [
    "6. What is the offset of the leftmost occurrence of AGGAGGTT in the Lambda virus genome when allowing up to 2 mismatches?"
   ]
  },
  {
   "cell_type": "code",
   "execution_count": 336,
   "id": "e986222f-86e6-494d-a94a-a5efef87d850",
   "metadata": {},
   "outputs": [
    {
     "name": "stdout",
     "output_type": "stream",
     "text": [
      "[49, 282, 299, 302, 380, 1560, 1650, 2235, 2277, 2400, 2562, 2565, 2729, 2823, 3160, 3181, 3946, 4210, 4294, 4309, 4405, 4580, 5069, 5159, 5189, 5231, 5331, 5519, 5737, 5882, 5993, 5996, 6011, 6312, 6522, 6585, 6606, 7316, 7394, 7819, 7904, 7966, 7998, 8534, 8648, 8946, 9339, 9354, 9530, 9842, 9966, 10041, 10250, 10416, 10445, 10484, 10527, 10874, 11193, 11292, 11505, 11568, 11655, 11745, 11838, 12078, 12180, 12222, 12697, 12745, 12819, 12880, 12935, 13011, 13087, 13256, 13415, 13526, 13813, 14259, 15385, 15473, 16192, 17101, 17437, 17755, 17936, 17989, 18016, 18040, 18727, 18853, 18911, 19232, 19263, 19310, 19833, 19929, 19932, 19947, 19980, 20793, 20802, 21305, 21528, 21627, 21684, 22414, 22660, 22670, 22787, 23326, 24063, 24145, 24409, 24595, 24681, 25120, 25139, 25210, 25381, 25384, 25648, 25664, 25773, 25987, 26196, 26208, 26576, 26587, 26653, 26736, 27892, 27967, 28042, 28622, 28840, 28976, 29119, 30029, 30530, 30673, 30902, 31619, 31645, 31682, 31843, 31859, 32069, 33180, 33365, 33715, 33952, 34321, 34421, 34841, 34848, 34956, 35145, 35253, 35289, 35643, 36185, 36687, 36869, 38030, 38197, 38381, 38479, 38737, 39282, 39600, 39681, 39786, 39828, 39954, 40119, 40337, 40508, 40781, 40887, 40890, 40946, 41110, 41225, 41264, 41282, 41324, 41570, 41693, 41717, 41768, 42079, 42082, 42266, 42353, 43039, 43184, 43389, 43662, 43689, 45033, 45727, 45763, 45781, 45790, 46173, 46215, 47028, 47220, 47930, 48101, 48256, 48301, 48411]\n"
     ]
    }
   ],
   "source": [
    "s = genome\n",
    "p = \"AGGAGGTT\"\n",
    "m = 2\n",
    "result_genome = naive_mm(p,s,m)\n",
    "print(result_genome)  "
   ]
  },
  {
   "cell_type": "markdown",
   "id": "bf1bced5-1cca-415f-a062-702d93802461",
   "metadata": {},
   "source": [
    "7. Finally, download and parse the provided FASTQ file containing real DNA sequencing reads derived from a human:\n",
    " https://d28rh4a8wq0iu5.cloudfront.net/ads1/data/ERR037900_1.first1000.fastq\n",
    "\n",
    "Note that the file has many reads in it and you should examine all of them together when answering this question.  The reads are taken from this study:\n",
    "Ajay, S. S., Parker, S. C., Abaan, H. O., Fajardo, K. V. F., & Margulies, E. H. (2011). \n",
    "Accurate and comprehensive sequencing of personal genomes. Genome research, 21(9), 1498-1505. \n",
    "\n",
    "This dataset has something wrong with it; one of the sequencing cycles is poor quality.\n",
    "\n",
    "Report which sequencing cycle has the problem.  Remember that a sequencing cycle corresponds to a particular offset in all the reads. For example, if the leftmost read position seems to have a problem consistently across reads, report 0. If the fourth position from the left has the problem, report 3. Do whatever analysis you think is needed to identify the bad cycle. It might help to review the \"Analyzing reads by position\" video.\n",
    "\n"
   ]
  },
  {
   "cell_type": "code",
   "execution_count": 338,
   "id": "fae50007-4935-4987-b809-5bdbdb2d140f",
   "metadata": {},
   "outputs": [
    {
     "name": "stdout",
     "output_type": "stream",
     "text": [
      "['TAACCCTAACCCTAACCCTAACCCTAACCCTAACCCTAACCCTAACCCTAACCCTAACCCTAACCCNAACCCTAACCCTAACCCTAACCCTAACCCTAAC', 'TAACCCTAACCCTAACCCTAACCCTAACCCTAACCCTAACCCTAACCCTAACCCTAACCCTAACCCNAACCCTAACCCTAACCCTAACCCTNACCCTAAC', 'TAACCCTAACCCTAACCCTAACCCTAACCCTAACCCTAACCCTAACCCTAACCCTAACCCTAACCCNAACCCTAACCCTAACCCTAACCCTAACCCTAAC', 'TAACCCTAACCCTAACCCTAACCCTAACCCTAACCCTAACCCTAACCCTAACCCTAACCCTAACCCNAACCCTAACCCTAACCCTAACCCTAACCCTACC', 'AACCCTAACCCTAACCCTAACCCTAACCCTAACCCTAACCCTAACCCTAACCCTAACCCTAACCCTNACCCTAACCCTAACCCTAACCCTAAACCTAACC', 'AACCCTAACCCTAACCCTAACCCTAACCCTAACCCTAACCCTAACCCTAACCCTAACCCTAACCCTNACCCTAACCCTAACCCTAACCCTAACCCTAACC', 'AACCCTAACCCTAACCCTAACCCTAACCCTAACCCTAACCCTAACCCTAACCCTAACCCTAACCCTNACCCTAACCCTAACCCTAACCCTAACCCTAACC', 'AACCCTAACCCTAACCCTAACCCTAACCCTAACCCTAACCCTAACCCTAACCCTAACCCTAACCCTNAACCTAACCCTAACCCTAACTCTAACCCTAACC', 'ACCCTAACCCTAACCCTAACCCTAACCCTAACCCTAACCCTAACCCTAACCCTAACCCTAACCCTANCCCTAACCCTAACCCTAACCCTAACCCTAACCC', 'CCCTAACCCTAACCCTAACCCTAACCCTAACCCTAACCCTAACCCTAACCCTAACCCTAACCCTAANCCTAACCCTAACCCTAACCCTACCCCTAACCCT']\n",
      "['HHHHHHHHHHHHHHHHHHHHHHHHHHHHHHHHHHHHHHHHHHHGFHHHFHFFHHHHHGHHFHEH@4#55554455HGFBF<@C>7EEF@FBEDDD<=C<E', 'HHHHHHHHHHHHHHHHHHHHHHHHHHHHHHHHHHHHHHHHHHHHHHHHHHHHHHHHCHHHHEHHBA#C>@54455C/7=CGHEGEB;C############', 'HHHHHHHHHHHHHHHHHHHHHHHHHHHHHHGHHHHHHHHHHHHHDHHHDEHHHHFGIHEHEGGGF4#45655366GIGEHAGBG################', 'HHHHHHHHHHHHHHHHHHHHHHHHHIHHHHHHHHHHHHHHHHHHHHHHIHHHHHIHFHHHIHHHHD#ECA54655GGIBH?BD@+BCBF?5A=::>8?##', 'HHHHHHHHHHHHHHHHHHHHHHHHHHHHHHHHHHHHHHHHHHHHHHHIHIHEHHIGHIFFHIIGF6#555:2=7=CB;?3CAACBAC2B###########', 'HHHHHHHHHHHHHHHHHHHHHHHHHHHHHHHHHHHHHHHHHHHHHHHHHHHHHIHHHIHIHHHGH:#@@@@9@C@EEGCGGFIFFF9FCAF?EEE4B8>>', \"HHHHHHHHHHHHHHHHHHHHHHIFHFEGGFHHHHHHGHHHHGHHHHHFHAFGHEHHIHHGBCCDC,#55564565CE:BB44+'5/36,(<<BC<DDBCE\", 'HHFHHDHHHHDDGGGDHDHHHHHGHHHHHHHDHHECHHH8GGDEEHHHHEH?3HG<=4>555624/#5/55/555DADA#####################', 'HHHHHHHHHHHHHHHHHHHHHHHHHHHHHHHHHHHHHHHHHHHHHHHHHHHHIHIIFIHEIIGFI@#==?46560GAAEDGGDGCA8CCB=@########', 'HHHHHHHHHHHHHHHHHHHHHHHHHHHHHHHHHHHHHHHHHHHHHHHHHHHHHHHEHHHGH@HEH###################################']\n"
     ]
    }
   ],
   "source": [
    "def readFastq(filename):\n",
    "    sequences = []\n",
    "    qualities = []\n",
    "    with open(filename) as fh:\n",
    "        while True:\n",
    "            fh.readline() \t#primera linea (nombre de la secuencia y la máquina, etc.) no se guarda\n",
    "            seq = fh.readline().rstrip() \t#segunda linea, de la secuencia, se guarda\n",
    "            fh.readline() \t#tercera línea, el signo +, no se guarda\n",
    "            qual = fh.readline().rstrip()    #linea de calidad. The rstrip() method removes any trailing characters (characters at the end a string)\n",
    "            if len(seq) == 0:\n",
    "                break\n",
    "            sequences.append(seq)\n",
    "            qualities.append(qual)\n",
    "    return sequences, qualities\n",
    "seqs, quals = readFastq(r\"C:\\Users\\...ERR037900_1.first1000.fastq\")  #cambiar por el nombre del archivo\n",
    "print(seqs[:10])\n",
    "print(quals[:10])"
   ]
  },
  {
   "cell_type": "code",
   "execution_count": 339,
   "id": "9507660d-3a83-4b0d-80f1-f0bd07746f70",
   "metadata": {},
   "outputs": [],
   "source": [
    "def phred33ToQ(qual):\n",
    "\treturn ord(qual) - 33"
   ]
  },
  {
   "cell_type": "code",
   "execution_count": 341,
   "id": "fa95f6c9-e781-40ed-b358-c5314fa6bacf",
   "metadata": {},
   "outputs": [
    {
     "name": "stdout",
     "output_type": "stream",
     "text": [
      "[0, 0, 17723, 0, 2, 11, 11, 28, 23, 55, 100, 111, 86, 174, 185, 272, 317, 259, 390, 1523, 2782, 762, 286, 413, 403, 538, 351, 694, 971, 777, 1024, 1449, 1341, 1312, 1916, 2233, 3025, 4043, 6640, 45696, 2074, 0, 0, 0, 0, 0, 0, 0, 0, 0]\n"
     ]
    },
    {
     "data": {
      "image/png": "[encoded data removed]",
      "text/plain": [
       "<Figure size 640x480 with 1 Axes>"
      ]
     },
     "metadata": {},
     "output_type": "display_data"
    }
   ],
   "source": [
    "def creaHist(qualities):\n",
    "    hist = [0]*50\n",
    "    for qual in qualities:\n",
    "        for phred in qual:\n",
    "            q = phred33ToQ(phred)\n",
    "            hist[q] += 1\n",
    "    return hist\n",
    "\n",
    "h = creaHist(quals)\n",
    "print(h)\n",
    "\n",
    "%matplotlib inline\n",
    "import matplotlib.pyplot as plt\n",
    "plt.bar(range(len(h)), h)\n",
    "plt.show()"
   ]
  },
  {
   "cell_type": "code",
   "execution_count": 416,
   "id": "02123ce6-781e-4e00-8b41-c3640a11b6ed",
   "metadata": {},
   "outputs": [
    {
     "name": "stdout",
     "output_type": "stream",
     "text": [
      "Position 66: GC = 0.055 (Low GC)\n"
     ]
    },
    {
     "data": {
      "image/png": "[encoded data removed]",
      "text/plain": [
       "<Figure size 640x480 with 1 Axes>"
      ]
     },
     "metadata": {},
     "output_type": "display_data"
    }
   ],
   "source": [
    "def findGCbyPos(reads):\n",
    "    gc = [0]*100\n",
    "    total = [0]*100\n",
    "    \n",
    "    for read in reads:\n",
    "        for i in range (len(read)):\n",
    "            if read[i] == 'C' or read[i] == 'G':\n",
    "                gc[i] += 1\n",
    "            total[i] += 1\n",
    "    for i in range (len(gc)):\n",
    "            if total[i] >0:\n",
    "                gc[i] /= float (total[i])\n",
    "            if gc[i] < 0.1:\n",
    "                print(f\"Position {i}: GC = {gc[i]} (Low GC)\")\n",
    "    return gc\n",
    "\n",
    "gc= findGCbyPos(seqs)\n",
    "plt.plot(range(len(gc)), gc)\n",
    "plt.show()"
   ]
  },
  {
   "cell_type": "code",
   "execution_count": 412,
   "id": "c772f84c-6cc3-4acf-91b2-631b5b825947",
   "metadata": {},
   "outputs": [
    {
     "ename": "TypeError",
     "evalue": "'<' not supported between instances of 'list' and 'float'",
     "output_type": "error",
     "traceback": [
      "\u001b[1;31m---------------------------------------------------------------------------\u001b[0m",
      "\u001b[1;31mTypeError\u001b[0m                                 Traceback (most recent call last)",
      "Cell \u001b[1;32mIn[412], line 2\u001b[0m\n\u001b[0;32m      1\u001b[0m \u001b[38;5;28;01mfor\u001b[39;00m i \u001b[38;5;129;01min\u001b[39;00m \u001b[38;5;28mrange\u001b[39m (\u001b[38;5;28mlen\u001b[39m(gc)):\n\u001b[1;32m----> 2\u001b[0m     \u001b[38;5;28;01mif\u001b[39;00m [i]\u001b[38;5;241m<\u001b[39m\u001b[38;5;241m0.1\u001b[39m:\n\u001b[0;32m      3\u001b[0m         \u001b[38;5;28mprint\u001b[39m([i])\n",
      "\u001b[1;31mTypeError\u001b[0m: '<' not supported between instances of 'list' and 'float'"
     ]
    }
   ],
   "source": []
  },
  {
   "cell_type": "code",
   "execution_count": null,
   "id": "d3fbba1c-9aa3-489a-b1e4-3acd349d40e8",
   "metadata": {},
   "outputs": [],
   "source": []
  }
 ],
 "metadata": {
  "kernelspec": {
   "display_name": "Python [conda env:base] *",
   "language": "python",
   "name": "conda-base-py"
  },
  "language_info": {
   "codemirror_mode": {
    "name": "ipython",
    "version": 3
   },
   "file_extension": ".py",
   "mimetype": "text/x-python",
   "name": "python",
   "nbconvert_exporter": "python",
   "pygments_lexer": "ipython3",
   "version": "3.12.7"
  }
 },
 "nbformat": 4,
 "nbformat_minor": 5
}
