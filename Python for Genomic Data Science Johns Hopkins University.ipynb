{
 "cells": [
  {
   "cell_type": "code",
   "execution_count": null,
   "id": "03151d2d-0448-4b49-bb0c-5f2ed1d73d62",
   "metadata": {},
   "outputs": [],
   "source": [
    "pip install biopython"
   ]
  },
  {
   "cell_type": "code",
   "execution_count": null,
   "id": "668b2fd1-0a0f-42a6-a7c4-86c5f2f9705c",
   "metadata": {},
   "outputs": [],
   "source": [
    "import Bio\n",
    "import Bio.Blast.Applications\n",
    "import Bio.Blast.NCBIXML as NCBIXML\n",
    "import Bio.Blast.NCBIWWW as NCBIWWW\n",
    "from Bio import SeqIO"
   ]
  },
  {
   "cell_type": "code",
   "execution_count": null,
   "id": "cce99a2d-b046-4a10-b2d6-19d686f2292b",
   "metadata": {},
   "outputs": [],
   "source": [
    "print (Bio.__version__)"
   ]
  },
  {
   "cell_type": "code",
   "execution_count": null,
   "id": "ac753eb6-a00a-4112-a9ef-a7d4561eb3e9",
   "metadata": {},
   "outputs": [],
   "source": [
    "multi_fasta = open(r\"C:\\Users\\Francisca Alvarez\\Desktop\\Postulaciones Alemania\\Nuevas Postulaciones\\Applications\\Modificaciones\\Certificados\\Nueva carpeta\\dna2.fasta\").read()"
   ]
  },
  {
   "cell_type": "markdown",
   "id": "495ae242-0579-4df3-820f-47d9a8fdfaf7",
   "metadata": {},
   "source": [
    "**1.- How many records are in the file? A record in a FASTA file is defined as a single-line header, followed by lines of sequence data. The header line is distinguished from the sequence data by a greater-than (\">\") symbol in the first column. The word following the \">\" symbol is the identifier of the sequence, and the rest of the line is an optional description of the entry. There should be no space between the \">\" and the first letter of the identifier.**"
   ]
  },
  {
   "cell_type": "code",
   "execution_count": null,
   "id": "0c3c0912-523a-4dff-a79a-036469c609fe",
   "metadata": {},
   "outputs": [],
   "source": [
    "def count_records_in_fasta(multi_fasta):\n",
    "    count = sum(1 for record in SeqIO.parse(multi_fasta, \"fasta\"))\n",
    "count"
   ]
  },
  {
   "cell_type": "markdown",
   "id": "e49d47e3-a02d-48a2-955f-cda63a2b42de",
   "metadata": {},
   "source": [
    "**2.- What are the lengths of the sequences in the file? What is the longest sequence and what is the shortest sequence? Is there more than one longest or shortest sequence? What are their identifiers**"
   ]
  },
  {
   "cell_type": "code",
   "execution_count": null,
   "id": "aa12ab28-8835-43ae-b30b-93bef81e3dd2",
   "metadata": {},
   "outputs": [],
   "source": [
    "from Bio import SeqIO\n",
    "def count_sequence_lengths(multi_fasta):\n",
    "    for record in SeqIO.parse(multi_fasta, \"fasta\"):\n",
    "        seq_length = len(record.seq)\n",
    "        print(f\" {record.id}: {seq_length} bases.\")\n",
    "\n",
    "# Especifica la ruta del archivo multi-FASTA\n",
    "file_path = \"dna2.fasta\"\n",
    "\n",
    "# Llamamos a la función para contar las longitudes de las secuencias\n",
    "count_sequence_lengths(file_path)\n"
   ]
  },
  {
   "cell_type": "markdown",
   "id": "aaf6223e-3f3c-47d9-b54e-30c5057030dd",
   "metadata": {},
   "source": [
    "**3.- In molecular biology, a reading frame is a way of dividing the DNA sequence of nucleotides into a set of consecutive, non-overlapping triplets (or codons). Depending on where we start, there are six possible reading frames: three in the forward (5' to 3') direction and three in the reverse (3' to 5'). For instance, the three possible forward reading frames for the sequence AGGTGACACCGCAAGCCTTATATTAGC are:** "
   ]
  },
  {
   "cell_type": "markdown",
   "id": "ace8619d-b31e-4ea1-9e9f-910170de0a87",
   "metadata": {},
   "source": [
    "- AGG TGA CAC CGC AAG CCT TAT ATT AGC\n",
    "- A GGT GAC ACC GCA AGC CTT ATA TTA GC\n",
    "- AG GTG ACA CCG CAA GCC TTA TAT TAG C "
   ]
  },
  {
   "cell_type": "markdown",
   "id": "83c339ed-47c4-4289-81e2-964afa21b351",
   "metadata": {},
   "source": [
    "**These are called reading frames 1, 2, and 3 respectively. An open reading frame (ORF) is the part of a reading frame that has the potential to encode a protein. It starts with a start codon (ATG), and ends with a stop codon (TAA, TAG or TGA). For instance, ATGAAATAG is an ORF of length 9.\n",
    "Given an input reading frame on the forward strand (1, 2, or 3) your program should be able to identify all ORFs present in each sequence of the FASTA file, and answer the following questions:**"
   ]
  },
  {
   "cell_type": "markdown",
   "id": "3d544b49-fbe7-4c51-8405-3d7653e68811",
   "metadata": {},
   "source": [
    "- What is the length of the longest ORF in the file?\n",
    "- What is the identifier of the sequence containing the longest ORF? For a given sequence identifier?\n",
    "- what is the longest ORF contained in the sequence represented by that identifier?\n",
    "- What is the starting position of the longest ORF in the sequence that contains it?"
   ]
  },
  {
   "cell_type": "markdown",
   "id": "b2dc1420-aa46-4819-af4f-b6521a9c31cc",
   "metadata": {},
   "source": [
    "**The position should indicate the character number in the sequence. For instance, the following ORF in reading frame 1:\n",
    "sequence1 ATGCCCTAG starts at position 1.\n",
    "Note that because the following sequence:\n",
    "sequence2 ATGAAAAAA\n",
    "does not have any stop codon in reading frame 1, we do not consider it to be an ORF in reading frame 1.**"
   ]
  },
  {
   "cell_type": "raw",
   "id": "a8ad8c1f-bdd1-40fa-bdd5-25e294c61e74",
   "metadata": {},
   "source": [
    "from Bio import SeqIO\n",
    "from Bio.Seq import Seq\n",
    "\n",
    "# Open the FASTA file and the output file\n",
    "with open(r\"C:\\Users\\Francisca Alvarez\\Desktop\\Postulaciones Alemania\\Nuevas Postulaciones\\Applications\\Modificaciones\\Certificados\\Nueva carpeta\\dna2.fasta\", \"r\") as file:\n",
    "    with open(\"sequences_results.txt\", \"w\") as output_file:\n",
    "        for multi_fasta in SeqIO.parse(file, \"fasta\"):\n",
    "            complement_dna = multi_fasta.seq.complement()   # Get the complement of the sequence\n",
    "            reverse_dna = complement_dna.reverse_complement() # Get the reverse complement sequence\n",
    "            output_file.write(f\"> {multi_fasta.id}_complement\\n{complement_dna}\\n\")  # Write the results to the output file\n",
    "            output_file.write(f\"> {multi_fasta.id}_reverse_complement\\n{reverse_dna}\\n\")  # Write the results to the output file"
   ]
  },
  {
   "cell_type": "code",
   "execution_count": null,
   "id": "aab9ab43-ac4a-4e25-b56d-d26f008fdebb",
   "metadata": {},
   "outputs": [],
   "source": [
    "from Bio import SeqIO\n",
    "from Bio.Seq import Seq\n",
    "\n",
    "def find_orfs(dna_seq, stop_codons):\n",
    "    ORFS = []\n",
    "    for frame in range(3):  # review in the three frames\n",
    "        CODONS = [str(dna_seq[i:i+3]) for i in range(frame, len(dna_seq), 3)]\n",
    "        flag = False\n",
    "\n",
    "        for i, codon in enumerate(CODONS):\n",
    "            if codon == \"ATG\":  # ORF start\n",
    "                orf = [codon]\n",
    "                flag = True\n",
    "                start_pos = frame + i * 3  # save the position\n",
    "\n",
    "            elif flag:\n",
    "                orf.append(codon)\n",
    "                if codon in stop_codons:  # if find a stop codon\n",
    "                    frame_number = (start_pos % 3) + 1  # Calculate frame (1,2,3)\n",
    "                    ORFS.append((start_pos, frame_number, \"\".join(orf)))  # save ORF with the frame\n",
    "                    flag = False  # Termina el ORF\n",
    "\n",
    "    return ORFS\n",
    "stop_codons = [\"TAA\", \"TAG\", \"TGA\"]\n",
    "\n",
    "with open(\"dna2.fasta\", \"r\") as file, open(\"orfs_results.txt\", \"w\") as output_file:  #in open, write your file\n",
    "    for record in SeqIO.parse(file, \"fasta\"):\n",
    "        original_dna = record.seq\n",
    "        reverse_dna = record.seq.reverse_complement()\n",
    "\n",
    "        orfs_forward = find_orfs(original_dna, stop_codons)\n",
    "        orfs_reverse = find_orfs(reverse_dna, stop_codons)\n",
    "\n",
    "        output_file.write(f\"> {record.id} (Strand +1)\\n\")\n",
    "        for pos, frame, orf in orfs_forward:\n",
    "            output_file.write(f\"ORF at position {pos}, Frame {frame}: {orf[:30]}...{orf[-3:]} (Length: {len(orf) * 3} bp)\\n\")\n",
    "\n",
    "        output_file.write(f\"\\n> {record.id} (Strand -1)\\n\")\n",
    "        for pos, frame, orf in orfs_reverse:\n",
    "            output_file.write(f\"ORF at position {pos}, Frame {frame}: {orf[:30]}...{orf[-3:]} (Length: {len(orf) * 3} bp)\\n\")\n"
   ]
  },
  {
   "cell_type": "code",
   "execution_count": null,
   "id": "182ac6a0-43c2-4eb9-baab-cbb995a308f9",
   "metadata": {},
   "outputs": [],
   "source": [
    "f = open(\"orfs_results.txt\", \"r\")\n",
    "print(f.read())"
   ]
  },
  {
   "cell_type": "markdown",
   "id": "387d76b4-8959-40c2-95a1-8bf0da07c6da",
   "metadata": {},
   "source": [
    "**4.- A repeat is a substring of a DNA sequence that occurs in multiple copies (more than one) somewhere in the sequence. Although repeats can occur on both the forward and reverse strands of the DNA sequence, we will only consider repeats on the forward strand here. Also we will allow repeats to overlap themselves. For example, the sequence ACACA contains two copies of the sequence ACA - once at position 1 (index 0 in Python), and once at position 3. Given a length n, your program should be able to identify all repeats of length n in all sequences in the FASTA file. Your program should also determine how many times each repeat occurs in the file, and which is the most frequent repeat of a given length.**"
   ]
  },
  {
   "cell_type": "code",
   "execution_count": null,
   "id": "58baad8f-5848-4b2f-9329-5c7a9ee022b4",
   "metadata": {},
   "outputs": [],
   "source": [
    "from Bio import SeqIO\n",
    "from collections import Counter\n",
    "import re\n",
    "\n",
    "def find_repeats(sequence, repeat_length=3):\n",
    "    repeat_counts = Counter()\n",
    "\n",
    "    # search repeats \n",
    "    for i in range(len(sequence) - repeat_length + 1):\n",
    "        substring = sequence[i:i+repeat_length]\n",
    "        matches = [m.start() for m in re.finditer(f\"(?={substring})\", sequence)]  \n",
    "        \n",
    "        if len(matches) > 1:  # if appears more than once\n",
    "            repeat_counts[substring] = len(matches)\n",
    "\n",
    "    return repeat_counts\n",
    "\n",
    "# specific the fasta file\n",
    "file_path = \"dna2.fasta\"\n",
    "repeat_length = 12  # change the number if you need different length for the repeats\n",
    "\n",
    "all_repeats = Counter()\n",
    "\n",
    "# read fasta and analyse the sequences\n",
    "with open(file_path, \"r\") as fasta_file:\n",
    "    for record in SeqIO.parse(fasta_file, \"fasta\"):\n",
    "        sequence = str(record.seq)  # sequence to string\n",
    "        repeats = find_repeats(sequence, repeat_length)\n",
    "        all_repeats.update(repeats)  # Sum to the total count\n",
    "\n",
    "# most frecuent motif\n",
    "most_common_repeat, most_common_count = all_repeats.most_common(1)[0]\n",
    "\n",
    "# show results\n",
    "print(\"Repeats found:\", all_repeats)\n",
    "print(f\"Most frequent repeat: '{most_common_repeat}' appears {most_common_count} times\")\n"
   ]
  },
  {
   "cell_type": "code",
   "execution_count": null,
   "id": "cc5fbfae-9969-453d-a01b-b562f40bae73",
   "metadata": {},
   "outputs": [],
   "source": []
  }
 ],
 "metadata": {
  "kernelspec": {
   "display_name": "Python [conda env:base] *",
   "language": "python",
   "name": "conda-base-py"
  },
  "language_info": {
   "codemirror_mode": {
    "name": "ipython",
    "version": 3
   },
   "file_extension": ".py",
   "mimetype": "text/x-python",
   "name": "python",
   "nbconvert_exporter": "python",
   "pygments_lexer": "ipython3",
   "version": "3.12.7"
  }
 },
 "nbformat": 4,
 "nbformat_minor": 5
}
